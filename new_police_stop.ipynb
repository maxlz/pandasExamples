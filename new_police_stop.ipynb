{
 "cells": [
  {
   "cell_type": "code",
   "execution_count": 1,
   "metadata": {},
   "outputs": [],
   "source": [
    "import pandas as pd\n",
    "import matplotlib.pyplot as plt\n",
    "%matplotlib inline"
   ]
  },
  {
   "cell_type": "code",
   "execution_count": 2,
   "metadata": {},
   "outputs": [],
   "source": [
    "data = pd.read_csv('IL-clean.csv.gz',compression='gzip',low_memory=False)"
   ]
  },
  {
   "cell_type": "code",
   "execution_count": 3,
   "metadata": {},
   "outputs": [
    {
     "data": {
      "text/html": [
       "<div>\n",
       "<style scoped>\n",
       "    .dataframe tbody tr th:only-of-type {\n",
       "        vertical-align: middle;\n",
       "    }\n",
       "\n",
       "    .dataframe tbody tr th {\n",
       "        vertical-align: top;\n",
       "    }\n",
       "\n",
       "    .dataframe thead th {\n",
       "        text-align: right;\n",
       "    }\n",
       "</style>\n",
       "<table border=\"1\" class=\"dataframe\">\n",
       "  <thead>\n",
       "    <tr style=\"text-align: right;\">\n",
       "      <th></th>\n",
       "      <th>id</th>\n",
       "      <th>state</th>\n",
       "      <th>stop_date</th>\n",
       "      <th>stop_time</th>\n",
       "      <th>location_raw</th>\n",
       "      <th>county_name</th>\n",
       "      <th>county_fips</th>\n",
       "      <th>fine_grained_location</th>\n",
       "      <th>police_department</th>\n",
       "      <th>driver_gender</th>\n",
       "      <th>...</th>\n",
       "      <th>search_conducted</th>\n",
       "      <th>search_type_raw</th>\n",
       "      <th>search_type</th>\n",
       "      <th>contraband_found</th>\n",
       "      <th>stop_outcome</th>\n",
       "      <th>is_arrested</th>\n",
       "      <th>stop_duration</th>\n",
       "      <th>vehicle_type</th>\n",
       "      <th>drugs_related_stop</th>\n",
       "      <th>district</th>\n",
       "    </tr>\n",
       "  </thead>\n",
       "  <tbody>\n",
       "    <tr>\n",
       "      <th>0</th>\n",
       "      <td>IL-2004-000001</td>\n",
       "      <td>IL</td>\n",
       "      <td>2004-01-01</td>\n",
       "      <td>00:02</td>\n",
       "      <td>ILLINOIS STATE POLICE 17</td>\n",
       "      <td>NaN</td>\n",
       "      <td>NaN</td>\n",
       "      <td>17</td>\n",
       "      <td>Illinois State Police</td>\n",
       "      <td>F</td>\n",
       "      <td>...</td>\n",
       "      <td>False</td>\n",
       "      <td>NaN</td>\n",
       "      <td>NaN</td>\n",
       "      <td>False</td>\n",
       "      <td>Written Warning</td>\n",
       "      <td>NaN</td>\n",
       "      <td>NaN</td>\n",
       "      <td>Olds 2000</td>\n",
       "      <td>NaN</td>\n",
       "      <td>ILLINOIS STATE POLICE 17</td>\n",
       "    </tr>\n",
       "    <tr>\n",
       "      <th>1</th>\n",
       "      <td>IL-2004-000002</td>\n",
       "      <td>IL</td>\n",
       "      <td>2004-01-01</td>\n",
       "      <td>00:07</td>\n",
       "      <td>ILLINOIS STATE POLICE 07</td>\n",
       "      <td>NaN</td>\n",
       "      <td>NaN</td>\n",
       "      <td>07</td>\n",
       "      <td>Illinois State Police</td>\n",
       "      <td>M</td>\n",
       "      <td>...</td>\n",
       "      <td>False</td>\n",
       "      <td>NaN</td>\n",
       "      <td>NaN</td>\n",
       "      <td>False</td>\n",
       "      <td>Written Warning</td>\n",
       "      <td>NaN</td>\n",
       "      <td>NaN</td>\n",
       "      <td>Linc 1990</td>\n",
       "      <td>NaN</td>\n",
       "      <td>ILLINOIS STATE POLICE 07</td>\n",
       "    </tr>\n",
       "    <tr>\n",
       "      <th>2</th>\n",
       "      <td>IL-2004-000003</td>\n",
       "      <td>IL</td>\n",
       "      <td>2004-01-01</td>\n",
       "      <td>00:14</td>\n",
       "      <td>ILLINOIS STATE POLICE 11</td>\n",
       "      <td>NaN</td>\n",
       "      <td>NaN</td>\n",
       "      <td>11</td>\n",
       "      <td>Illinois State Police</td>\n",
       "      <td>M</td>\n",
       "      <td>...</td>\n",
       "      <td>False</td>\n",
       "      <td>NaN</td>\n",
       "      <td>NaN</td>\n",
       "      <td>False</td>\n",
       "      <td>Citation</td>\n",
       "      <td>NaN</td>\n",
       "      <td>NaN</td>\n",
       "      <td>Chev 1996</td>\n",
       "      <td>NaN</td>\n",
       "      <td>ILLINOIS STATE POLICE 11</td>\n",
       "    </tr>\n",
       "    <tr>\n",
       "      <th>3</th>\n",
       "      <td>IL-2004-000004</td>\n",
       "      <td>IL</td>\n",
       "      <td>2004-01-01</td>\n",
       "      <td>00:15</td>\n",
       "      <td>ILLINOIS STATE POLICE 03</td>\n",
       "      <td>Cook County</td>\n",
       "      <td>17031.0</td>\n",
       "      <td>03</td>\n",
       "      <td>Illinois State Police</td>\n",
       "      <td>F</td>\n",
       "      <td>...</td>\n",
       "      <td>False</td>\n",
       "      <td>NaN</td>\n",
       "      <td>NaN</td>\n",
       "      <td>False</td>\n",
       "      <td>Citation</td>\n",
       "      <td>NaN</td>\n",
       "      <td>NaN</td>\n",
       "      <td>Buic 1992</td>\n",
       "      <td>NaN</td>\n",
       "      <td>ILLINOIS STATE POLICE 03</td>\n",
       "    </tr>\n",
       "    <tr>\n",
       "      <th>4</th>\n",
       "      <td>IL-2004-000005</td>\n",
       "      <td>IL</td>\n",
       "      <td>2004-01-01</td>\n",
       "      <td>00:15</td>\n",
       "      <td>ILLINOIS STATE POLICE 09</td>\n",
       "      <td>NaN</td>\n",
       "      <td>NaN</td>\n",
       "      <td>09</td>\n",
       "      <td>Illinois State Police</td>\n",
       "      <td>F</td>\n",
       "      <td>...</td>\n",
       "      <td>False</td>\n",
       "      <td>NaN</td>\n",
       "      <td>NaN</td>\n",
       "      <td>False</td>\n",
       "      <td>Citation</td>\n",
       "      <td>NaN</td>\n",
       "      <td>NaN</td>\n",
       "      <td>Olds 1996</td>\n",
       "      <td>NaN</td>\n",
       "      <td>ILLINOIS STATE POLICE 09</td>\n",
       "    </tr>\n",
       "  </tbody>\n",
       "</table>\n",
       "<p>5 rows × 26 columns</p>\n",
       "</div>"
      ],
      "text/plain": [
       "               id state   stop_date stop_time              location_raw  \\\n",
       "0  IL-2004-000001    IL  2004-01-01     00:02  ILLINOIS STATE POLICE 17   \n",
       "1  IL-2004-000002    IL  2004-01-01     00:07  ILLINOIS STATE POLICE 07   \n",
       "2  IL-2004-000003    IL  2004-01-01     00:14  ILLINOIS STATE POLICE 11   \n",
       "3  IL-2004-000004    IL  2004-01-01     00:15  ILLINOIS STATE POLICE 03   \n",
       "4  IL-2004-000005    IL  2004-01-01     00:15  ILLINOIS STATE POLICE 09   \n",
       "\n",
       "   county_name  county_fips fine_grained_location      police_department  \\\n",
       "0          NaN          NaN                    17  Illinois State Police   \n",
       "1          NaN          NaN                    07  Illinois State Police   \n",
       "2          NaN          NaN                    11  Illinois State Police   \n",
       "3  Cook County      17031.0                    03  Illinois State Police   \n",
       "4          NaN          NaN                    09  Illinois State Police   \n",
       "\n",
       "  driver_gender            ...             search_conducted  search_type_raw  \\\n",
       "0             F            ...                        False              NaN   \n",
       "1             M            ...                        False              NaN   \n",
       "2             M            ...                        False              NaN   \n",
       "3             F            ...                        False              NaN   \n",
       "4             F            ...                        False              NaN   \n",
       "\n",
       "  search_type contraband_found     stop_outcome is_arrested  stop_duration  \\\n",
       "0         NaN            False  Written Warning         NaN            NaN   \n",
       "1         NaN            False  Written Warning         NaN            NaN   \n",
       "2         NaN            False         Citation         NaN            NaN   \n",
       "3         NaN            False         Citation         NaN            NaN   \n",
       "4         NaN            False         Citation         NaN            NaN   \n",
       "\n",
       "  vehicle_type drugs_related_stop                  district  \n",
       "0    Olds 2000                NaN  ILLINOIS STATE POLICE 17  \n",
       "1    Linc 1990                NaN  ILLINOIS STATE POLICE 07  \n",
       "2    Chev 1996                NaN  ILLINOIS STATE POLICE 11  \n",
       "3    Buic 1992                NaN  ILLINOIS STATE POLICE 03  \n",
       "4    Olds 1996                NaN  ILLINOIS STATE POLICE 09  \n",
       "\n",
       "[5 rows x 26 columns]"
      ]
     },
     "execution_count": 3,
     "metadata": {},
     "output_type": "execute_result"
    }
   ],
   "source": [
    "data.head()"
   ]
  },
  {
   "cell_type": "code",
   "execution_count": 4,
   "metadata": {},
   "outputs": [
    {
     "data": {
      "text/plain": [
       "id                        object\n",
       "state                     object\n",
       "stop_date                 object\n",
       "stop_time                 object\n",
       "location_raw              object\n",
       "county_name               object\n",
       "county_fips              float64\n",
       "fine_grained_location     object\n",
       "police_department         object\n",
       "driver_gender             object\n",
       "driver_age_raw           float64\n",
       "driver_age               float64\n",
       "driver_race_raw           object\n",
       "driver_race               object\n",
       "violation_raw             object\n",
       "violation                 object\n",
       "search_conducted            bool\n",
       "search_type_raw           object\n",
       "search_type               object\n",
       "contraband_found            bool\n",
       "stop_outcome              object\n",
       "is_arrested              float64\n",
       "stop_duration            float64\n",
       "vehicle_type              object\n",
       "drugs_related_stop        object\n",
       "district                  object\n",
       "dtype: object"
      ]
     },
     "execution_count": 4,
     "metadata": {},
     "output_type": "execute_result"
    }
   ],
   "source": [
    "data.dtypes"
   ]
  },
  {
   "cell_type": "code",
   "execution_count": 4,
   "metadata": {},
   "outputs": [
    {
     "name": "stdout",
     "output_type": "stream",
     "text": [
      "<class 'pandas.core.frame.DataFrame'>\n",
      "RangeIndex: 4715031 entries, 0 to 4715030\n",
      "Data columns (total 26 columns):\n",
      "id                       object\n",
      "state                    object\n",
      "stop_date                object\n",
      "stop_time                object\n",
      "location_raw             object\n",
      "county_name              object\n",
      "county_fips              float64\n",
      "fine_grained_location    object\n",
      "police_department        object\n",
      "driver_gender            object\n",
      "driver_age_raw           float64\n",
      "driver_age               float64\n",
      "driver_race_raw          object\n",
      "driver_race              object\n",
      "violation_raw            object\n",
      "violation                object\n",
      "search_conducted         bool\n",
      "search_type_raw          object\n",
      "search_type              object\n",
      "contraband_found         bool\n",
      "stop_outcome             object\n",
      "is_arrested              float64\n",
      "stop_duration            float64\n",
      "vehicle_type             object\n",
      "drugs_related_stop       object\n",
      "district                 object\n",
      "dtypes: bool(2), float64(5), object(19)\n",
      "memory usage: 5.3 GB\n"
     ]
    }
   ],
   "source": [
    "data.info(memory_usage='deep')"
   ]
  },
  {
   "cell_type": "code",
   "execution_count": 5,
   "metadata": {},
   "outputs": [],
   "source": [
    "data.dropna(axis='columns',how='all',inplace=True)"
   ]
  },
  {
   "cell_type": "code",
   "execution_count": 6,
   "metadata": {},
   "outputs": [],
   "source": [
    "data.stop_date = data.stop_date.str.cat(data.stop_time,sep=' ')"
   ]
  },
  {
   "cell_type": "code",
   "execution_count": 7,
   "metadata": {},
   "outputs": [],
   "source": [
    "data.stop_date = pd.to_datetime(data.stop_date)"
   ]
  },
  {
   "cell_type": "code",
   "execution_count": 8,
   "metadata": {},
   "outputs": [
    {
     "data": {
      "text/plain": [
       "0   2004-01-01 00:02:00\n",
       "1   2004-01-01 00:07:00\n",
       "2   2004-01-01 00:14:00\n",
       "3   2004-01-01 00:15:00\n",
       "4   2004-01-01 00:15:00\n",
       "Name: stop_date, dtype: datetime64[ns]"
      ]
     },
     "execution_count": 8,
     "metadata": {},
     "output_type": "execute_result"
    }
   ],
   "source": [
    "data.stop_date.head()"
   ]
  },
  {
   "cell_type": "code",
   "execution_count": 8,
   "metadata": {},
   "outputs": [
    {
     "data": {
      "text/plain": [
       "<matplotlib.axes._subplots.AxesSubplot at 0x3816dda0>"
      ]
     },
     "execution_count": 8,
     "metadata": {},
     "output_type": "execute_result"
    },
    {
     "data": {
      "image/png": "[encoded data removed]",
      "text/plain": [
       "<matplotlib.figure.Figure at 0x3816d710>"
      ]
     },
     "metadata": {},
     "output_type": "display_data"
    }
   ],
   "source": [
    "plt.style.use('seaborn')\n",
    "data.groupby(data.stop_date.dt.hour).violation.count().plot()"
   ]
  },
  {
   "cell_type": "code",
   "execution_count": 7,
   "metadata": {},
   "outputs": [
    {
     "data": {
      "text/html": [
       "<div>\n",
       "<style scoped>\n",
       "    .dataframe tbody tr th:only-of-type {\n",
       "        vertical-align: middle;\n",
       "    }\n",
       "\n",
       "    .dataframe tbody tr th {\n",
       "        vertical-align: top;\n",
       "    }\n",
       "\n",
       "    .dataframe thead th {\n",
       "        text-align: right;\n",
       "    }\n",
       "</style>\n",
       "<table border=\"1\" class=\"dataframe\">\n",
       "  <thead>\n",
       "    <tr style=\"text-align: right;\">\n",
       "      <th>violation</th>\n",
       "      <th>Equipment</th>\n",
       "      <th>License</th>\n",
       "      <th>Moving violation</th>\n",
       "      <th>Other</th>\n",
       "      <th>Registration/plates</th>\n",
       "      <th>Safe movement</th>\n",
       "      <th>Seat belt</th>\n",
       "      <th>Speeding</th>\n",
       "    </tr>\n",
       "    <tr>\n",
       "      <th>stop_date</th>\n",
       "      <th></th>\n",
       "      <th></th>\n",
       "      <th></th>\n",
       "      <th></th>\n",
       "      <th></th>\n",
       "      <th></th>\n",
       "      <th></th>\n",
       "      <th></th>\n",
       "    </tr>\n",
       "  </thead>\n",
       "  <tbody>\n",
       "    <tr>\n",
       "      <th>0.0</th>\n",
       "      <td>47383</td>\n",
       "      <td>4439</td>\n",
       "      <td>33844</td>\n",
       "      <td>1961</td>\n",
       "      <td>4697</td>\n",
       "      <td>22537</td>\n",
       "      <td>2070</td>\n",
       "      <td>98759</td>\n",
       "    </tr>\n",
       "    <tr>\n",
       "      <th>1.0</th>\n",
       "      <td>35298</td>\n",
       "      <td>3343</td>\n",
       "      <td>29203</td>\n",
       "      <td>1766</td>\n",
       "      <td>3521</td>\n",
       "      <td>20328</td>\n",
       "      <td>1530</td>\n",
       "      <td>80050</td>\n",
       "    </tr>\n",
       "    <tr>\n",
       "      <th>2.0</th>\n",
       "      <td>21202</td>\n",
       "      <td>2010</td>\n",
       "      <td>21683</td>\n",
       "      <td>1386</td>\n",
       "      <td>2182</td>\n",
       "      <td>15004</td>\n",
       "      <td>994</td>\n",
       "      <td>55942</td>\n",
       "    </tr>\n",
       "    <tr>\n",
       "      <th>3.0</th>\n",
       "      <td>10341</td>\n",
       "      <td>1026</td>\n",
       "      <td>13159</td>\n",
       "      <td>966</td>\n",
       "      <td>1001</td>\n",
       "      <td>8493</td>\n",
       "      <td>501</td>\n",
       "      <td>33763</td>\n",
       "    </tr>\n",
       "    <tr>\n",
       "      <th>4.0</th>\n",
       "      <td>6503</td>\n",
       "      <td>537</td>\n",
       "      <td>8096</td>\n",
       "      <td>815</td>\n",
       "      <td>584</td>\n",
       "      <td>5137</td>\n",
       "      <td>290</td>\n",
       "      <td>25071</td>\n",
       "    </tr>\n",
       "    <tr>\n",
       "      <th>5.0</th>\n",
       "      <td>5981</td>\n",
       "      <td>523</td>\n",
       "      <td>7240</td>\n",
       "      <td>741</td>\n",
       "      <td>575</td>\n",
       "      <td>4252</td>\n",
       "      <td>387</td>\n",
       "      <td>27664</td>\n",
       "    </tr>\n",
       "    <tr>\n",
       "      <th>6.0</th>\n",
       "      <td>14172</td>\n",
       "      <td>1288</td>\n",
       "      <td>13687</td>\n",
       "      <td>1977</td>\n",
       "      <td>1974</td>\n",
       "      <td>7894</td>\n",
       "      <td>1278</td>\n",
       "      <td>50025</td>\n",
       "    </tr>\n",
       "    <tr>\n",
       "      <th>7.0</th>\n",
       "      <td>45017</td>\n",
       "      <td>3184</td>\n",
       "      <td>29919</td>\n",
       "      <td>5498</td>\n",
       "      <td>4646</td>\n",
       "      <td>14794</td>\n",
       "      <td>5206</td>\n",
       "      <td>109165</td>\n",
       "    </tr>\n",
       "    <tr>\n",
       "      <th>8.0</th>\n",
       "      <td>63808</td>\n",
       "      <td>4061</td>\n",
       "      <td>38011</td>\n",
       "      <td>9062</td>\n",
       "      <td>6035</td>\n",
       "      <td>16645</td>\n",
       "      <td>6894</td>\n",
       "      <td>142907</td>\n",
       "    </tr>\n",
       "    <tr>\n",
       "      <th>9.0</th>\n",
       "      <td>65882</td>\n",
       "      <td>4300</td>\n",
       "      <td>38573</td>\n",
       "      <td>10120</td>\n",
       "      <td>5872</td>\n",
       "      <td>15803</td>\n",
       "      <td>6923</td>\n",
       "      <td>159776</td>\n",
       "    </tr>\n",
       "    <tr>\n",
       "      <th>10.0</th>\n",
       "      <td>63623</td>\n",
       "      <td>4444</td>\n",
       "      <td>36961</td>\n",
       "      <td>8514</td>\n",
       "      <td>6011</td>\n",
       "      <td>15568</td>\n",
       "      <td>6841</td>\n",
       "      <td>158437</td>\n",
       "    </tr>\n",
       "    <tr>\n",
       "      <th>11.0</th>\n",
       "      <td>42958</td>\n",
       "      <td>3115</td>\n",
       "      <td>24835</td>\n",
       "      <td>5123</td>\n",
       "      <td>4081</td>\n",
       "      <td>12131</td>\n",
       "      <td>4938</td>\n",
       "      <td>101049</td>\n",
       "    </tr>\n",
       "    <tr>\n",
       "      <th>12.0</th>\n",
       "      <td>44680</td>\n",
       "      <td>3034</td>\n",
       "      <td>24321</td>\n",
       "      <td>4362</td>\n",
       "      <td>4050</td>\n",
       "      <td>11545</td>\n",
       "      <td>4696</td>\n",
       "      <td>96419</td>\n",
       "    </tr>\n",
       "    <tr>\n",
       "      <th>13.0</th>\n",
       "      <td>54166</td>\n",
       "      <td>3898</td>\n",
       "      <td>30405</td>\n",
       "      <td>3921</td>\n",
       "      <td>5093</td>\n",
       "      <td>13525</td>\n",
       "      <td>5499</td>\n",
       "      <td>135076</td>\n",
       "    </tr>\n",
       "    <tr>\n",
       "      <th>14.0</th>\n",
       "      <td>57202</td>\n",
       "      <td>4976</td>\n",
       "      <td>30568</td>\n",
       "      <td>3375</td>\n",
       "      <td>5998</td>\n",
       "      <td>15598</td>\n",
       "      <td>5563</td>\n",
       "      <td>127334</td>\n",
       "    </tr>\n",
       "    <tr>\n",
       "      <th>15.0</th>\n",
       "      <td>64425</td>\n",
       "      <td>5911</td>\n",
       "      <td>34869</td>\n",
       "      <td>2937</td>\n",
       "      <td>6947</td>\n",
       "      <td>18949</td>\n",
       "      <td>6307</td>\n",
       "      <td>123482</td>\n",
       "    </tr>\n",
       "    <tr>\n",
       "      <th>16.0</th>\n",
       "      <td>62127</td>\n",
       "      <td>5769</td>\n",
       "      <td>36111</td>\n",
       "      <td>2593</td>\n",
       "      <td>6934</td>\n",
       "      <td>19300</td>\n",
       "      <td>5729</td>\n",
       "      <td>125157</td>\n",
       "    </tr>\n",
       "    <tr>\n",
       "      <th>17.0</th>\n",
       "      <td>57579</td>\n",
       "      <td>5410</td>\n",
       "      <td>35660</td>\n",
       "      <td>2541</td>\n",
       "      <td>6389</td>\n",
       "      <td>18158</td>\n",
       "      <td>4653</td>\n",
       "      <td>133070</td>\n",
       "    </tr>\n",
       "    <tr>\n",
       "      <th>18.0</th>\n",
       "      <td>45990</td>\n",
       "      <td>3917</td>\n",
       "      <td>28282</td>\n",
       "      <td>2262</td>\n",
       "      <td>4927</td>\n",
       "      <td>13592</td>\n",
       "      <td>3213</td>\n",
       "      <td>112901</td>\n",
       "    </tr>\n",
       "    <tr>\n",
       "      <th>19.0</th>\n",
       "      <td>34181</td>\n",
       "      <td>2608</td>\n",
       "      <td>20231</td>\n",
       "      <td>1560</td>\n",
       "      <td>3616</td>\n",
       "      <td>9177</td>\n",
       "      <td>1955</td>\n",
       "      <td>82327</td>\n",
       "    </tr>\n",
       "    <tr>\n",
       "      <th>20.0</th>\n",
       "      <td>36611</td>\n",
       "      <td>2919</td>\n",
       "      <td>21826</td>\n",
       "      <td>1534</td>\n",
       "      <td>3500</td>\n",
       "      <td>11070</td>\n",
       "      <td>1787</td>\n",
       "      <td>81465</td>\n",
       "    </tr>\n",
       "    <tr>\n",
       "      <th>21.0</th>\n",
       "      <td>43954</td>\n",
       "      <td>3352</td>\n",
       "      <td>25062</td>\n",
       "      <td>1457</td>\n",
       "      <td>3852</td>\n",
       "      <td>14841</td>\n",
       "      <td>2024</td>\n",
       "      <td>88703</td>\n",
       "    </tr>\n",
       "    <tr>\n",
       "      <th>22.0</th>\n",
       "      <td>47563</td>\n",
       "      <td>4035</td>\n",
       "      <td>28091</td>\n",
       "      <td>1490</td>\n",
       "      <td>5142</td>\n",
       "      <td>18510</td>\n",
       "      <td>1839</td>\n",
       "      <td>91535</td>\n",
       "    </tr>\n",
       "    <tr>\n",
       "      <th>23.0</th>\n",
       "      <td>54552</td>\n",
       "      <td>5014</td>\n",
       "      <td>34464</td>\n",
       "      <td>1721</td>\n",
       "      <td>6061</td>\n",
       "      <td>23632</td>\n",
       "      <td>2175</td>\n",
       "      <td>108066</td>\n",
       "    </tr>\n",
       "  </tbody>\n",
       "</table>\n",
       "</div>"
      ],
      "text/plain": [
       "violation  Equipment  License  Moving violation  Other  Registration/plates  \\\n",
       "stop_date                                                                     \n",
       "0.0            47383     4439             33844   1961                 4697   \n",
       "1.0            35298     3343             29203   1766                 3521   \n",
       "2.0            21202     2010             21683   1386                 2182   \n",
       "3.0            10341     1026             13159    966                 1001   \n",
       "4.0             6503      537              8096    815                  584   \n",
       "5.0             5981      523              7240    741                  575   \n",
       "6.0            14172     1288             13687   1977                 1974   \n",
       "7.0            45017     3184             29919   5498                 4646   \n",
       "8.0            63808     4061             38011   9062                 6035   \n",
       "9.0            65882     4300             38573  10120                 5872   \n",
       "10.0           63623     4444             36961   8514                 6011   \n",
       "11.0           42958     3115             24835   5123                 4081   \n",
       "12.0           44680     3034             24321   4362                 4050   \n",
       "13.0           54166     3898             30405   3921                 5093   \n",
       "14.0           57202     4976             30568   3375                 5998   \n",
       "15.0           64425     5911             34869   2937                 6947   \n",
       "16.0           62127     5769             36111   2593                 6934   \n",
       "17.0           57579     5410             35660   2541                 6389   \n",
       "18.0           45990     3917             28282   2262                 4927   \n",
       "19.0           34181     2608             20231   1560                 3616   \n",
       "20.0           36611     2919             21826   1534                 3500   \n",
       "21.0           43954     3352             25062   1457                 3852   \n",
       "22.0           47563     4035             28091   1490                 5142   \n",
       "23.0           54552     5014             34464   1721                 6061   \n",
       "\n",
       "violation  Safe movement  Seat belt  Speeding  \n",
       "stop_date                                      \n",
       "0.0                22537       2070     98759  \n",
       "1.0                20328       1530     80050  \n",
       "2.0                15004        994     55942  \n",
       "3.0                 8493        501     33763  \n",
       "4.0                 5137        290     25071  \n",
       "5.0                 4252        387     27664  \n",
       "6.0                 7894       1278     50025  \n",
       "7.0                14794       5206    109165  \n",
       "8.0                16645       6894    142907  \n",
       "9.0                15803       6923    159776  \n",
       "10.0               15568       6841    158437  \n",
       "11.0               12131       4938    101049  \n",
       "12.0               11545       4696     96419  \n",
       "13.0               13525       5499    135076  \n",
       "14.0               15598       5563    127334  \n",
       "15.0               18949       6307    123482  \n",
       "16.0               19300       5729    125157  \n",
       "17.0               18158       4653    133070  \n",
       "18.0               13592       3213    112901  \n",
       "19.0                9177       1955     82327  \n",
       "20.0               11070       1787     81465  \n",
       "21.0               14841       2024     88703  \n",
       "22.0               18510       1839     91535  \n",
       "23.0               23632       2175    108066  "
      ]
     },
     "execution_count": 7,
     "metadata": {},
     "output_type": "execute_result"
    }
   ],
   "source": [
    "data.groupby(data.stop_date.dt.hour).violation.value_counts().unstack()"
   ]
  },
  {
   "cell_type": "code",
   "execution_count": null,
   "metadata": {},
   "outputs": [],
   "source": [
    "data.describe()"
   ]
  },
  {
   "cell_type": "code",
   "execution_count": 40,
   "metadata": {},
   "outputs": [
    {
     "data": {
      "text/plain": [
       "id                             0\n",
       "state                          0\n",
       "stop_date                   2331\n",
       "stop_time                   2331\n",
       "location_raw                 266\n",
       "county_name              4240169\n",
       "county_fips              4240169\n",
       "fine_grained_location        266\n",
       "police_department              0\n",
       "driver_gender                  0\n",
       "driver_age_raw                 0\n",
       "driver_age                  2932\n",
       "driver_race_raw                0\n",
       "driver_race                    0\n",
       "violation_raw                  0\n",
       "violation                      0\n",
       "search_conducted               0\n",
       "search_type_raw          4529411\n",
       "search_type              4562575\n",
       "contraband_found               0\n",
       "stop_outcome                   0\n",
       "stop_duration            1286028\n",
       "vehicle_type                   0\n",
       "drugs_related_stop       2244026\n",
       "district                     266\n",
       "dtype: int64"
      ]
     },
     "execution_count": 40,
     "metadata": {},
     "output_type": "execute_result"
    }
   ],
   "source": [
    "data.isnull().sum()"
   ]
  },
  {
   "cell_type": "code",
   "execution_count": 8,
   "metadata": {},
   "outputs": [
    {
     "data": {
      "text/plain": [
       "driver_race  search_conducted\n",
       "Asian        False               0.977075\n",
       "             True                0.022925\n",
       "Black        False               0.918592\n",
       "             True                0.081408\n",
       "Hispanic     False               0.911525\n",
       "             True                0.088475\n",
       "Other        False               0.966638\n",
       "             True                0.033362\n",
       "White        False               0.974061\n",
       "             True                0.025939\n",
       "Name: search_conducted, dtype: float64"
      ]
     },
     "execution_count": 8,
     "metadata": {},
     "output_type": "execute_result"
    }
   ],
   "source": [
    "data.groupby('driver_race').search_conducted.value_counts(normalize=True)"
   ]
  },
  {
   "cell_type": "code",
   "execution_count": 10,
   "metadata": {},
   "outputs": [
    {
     "data": {
      "text/plain": [
       "array([[<matplotlib.axes._subplots.AxesSubplot object at 0x00000000355DD358>,\n",
       "        <matplotlib.axes._subplots.AxesSubplot object at 0x0000000034DD1550>],\n",
       "       [<matplotlib.axes._subplots.AxesSubplot object at 0x00000000362A90F0>,\n",
       "        <matplotlib.axes._subplots.AxesSubplot object at 0x0000000036DC9320>],\n",
       "       [<matplotlib.axes._subplots.AxesSubplot object at 0x0000000035881E80>,\n",
       "        <matplotlib.axes._subplots.AxesSubplot object at 0x0000000035881EB8>]],\n",
       "      dtype=object)"
      ]
     },
     "execution_count": 10,
     "metadata": {},
     "output_type": "execute_result"
    },
    {
     "data": {
      "image/png": "[encoded data removed]",
      "text/plain": [
       "<matplotlib.figure.Figure at 0x351f9518>"
      ]
     },
     "metadata": {},
     "output_type": "display_data"
    }
   ],
   "source": [
    "data.hist()"
   ]
  },
  {
   "cell_type": "code",
   "execution_count": 9,
   "metadata": {},
   "outputs": [
    {
     "data": {
      "text/plain": [
       "array([nan, 'Cook County'], dtype=object)"
      ]
     },
     "execution_count": 9,
     "metadata": {},
     "output_type": "execute_result"
    }
   ],
   "source": [
    "data.county_name.unique()"
   ]
  },
  {
   "cell_type": "code",
   "execution_count": 10,
   "metadata": {},
   "outputs": [
    {
     "data": {
      "text/plain": [
       "array([   nan, 17031.])"
      ]
     },
     "execution_count": 10,
     "metadata": {},
     "output_type": "execute_result"
    }
   ],
   "source": [
    "data.county_fips.unique()"
   ]
  },
  {
   "cell_type": "code",
   "execution_count": 11,
   "metadata": {},
   "outputs": [],
   "source": [
    "data.drop(['county_name','county_fips'],axis='columns',inplace=True)"
   ]
  },
  {
   "cell_type": "code",
   "execution_count": 12,
   "metadata": {},
   "outputs": [
    {
     "data": {
      "text/plain": [
       "array([nan, 'Incident to Arrest', 'Consent', 'Reasonable Suspicion',\n",
       "       'Probable Cause', 'Other', 'K9 Search'], dtype=object)"
      ]
     },
     "execution_count": 12,
     "metadata": {},
     "output_type": "execute_result"
    }
   ],
   "source": [
    "data.search_type.unique()"
   ]
  },
  {
   "cell_type": "code",
   "execution_count": 13,
   "metadata": {},
   "outputs": [
    {
     "data": {
      "text/plain": [
       "array([nan, True, False], dtype=object)"
      ]
     },
     "execution_count": 13,
     "metadata": {},
     "output_type": "execute_result"
    }
   ],
   "source": [
    "data.drugs_related_stop.unique()"
   ]
  },
  {
   "cell_type": "code",
   "execution_count": 14,
   "metadata": {},
   "outputs": [],
   "source": [
    "data.drugs_related_stop.fillna(value=False,inplace=True)"
   ]
  },
  {
   "cell_type": "code",
   "execution_count": 15,
   "metadata": {},
   "outputs": [
    {
     "data": {
      "text/plain": [
       "id                             0\n",
       "state                          0\n",
       "stop_date                   2331\n",
       "stop_time                   2331\n",
       "location_raw                 266\n",
       "fine_grained_location        266\n",
       "police_department              0\n",
       "driver_gender                  0\n",
       "driver_age_raw                 0\n",
       "driver_age                  2932\n",
       "driver_race_raw                0\n",
       "driver_race                    0\n",
       "violation_raw                  0\n",
       "violation                      0\n",
       "search_conducted               0\n",
       "search_type_raw          4529411\n",
       "search_type              4562575\n",
       "contraband_found               0\n",
       "stop_outcome                   0\n",
       "stop_duration            1286028\n",
       "vehicle_type                   0\n",
       "drugs_related_stop             0\n",
       "district                     266\n",
       "dtype: int64"
      ]
     },
     "execution_count": 15,
     "metadata": {},
     "output_type": "execute_result"
    }
   ],
   "source": [
    "data.isnull().sum()"
   ]
  },
  {
   "cell_type": "code",
   "execution_count": 16,
   "metadata": {},
   "outputs": [
    {
     "data": {
      "text/plain": [
       "array(['ILLINOIS STATE POLICE 17', 'ILLINOIS STATE POLICE 07',\n",
       "       'ILLINOIS STATE POLICE 11', 'ILLINOIS STATE POLICE 03',\n",
       "       'ILLINOIS STATE POLICE 09', 'ILLINOIS STATE POLICE 08',\n",
       "       'ILLINOIS STATE POLICE 15', 'ILLINOIS STATE POLICE 22',\n",
       "       'ILLINOIS STATE POLICE 05', 'ILLINOIS STATE POLICE 02',\n",
       "       'ILLINOIS STATE POLICE 10', 'ILLINOIS STATE POLICE 16',\n",
       "       'ILLINOIS STATE POLICE 06', 'ILLINOIS STATE POLICE 20',\n",
       "       'ILLINOIS STATE POLICE 19', 'ILLINOIS STATE POLICE 13',\n",
       "       'ILLINOIS STATE POLICE 18', 'ILLINOIS STATE POLICE 12',\n",
       "       'ILLINOIS STATE POLICE 21', 'ILLINOIS STATE POLICE 01',\n",
       "       'ILLINOIS STATE POLICE 14', 'ILLINOIS STATE POLICE 04', nan,\n",
       "       'ILLINOIS STATE POLICE 00', 'ILLINOIS STATE POLICE Z2'],\n",
       "      dtype=object)"
      ]
     },
     "execution_count": 16,
     "metadata": {},
     "output_type": "execute_result"
    }
   ],
   "source": [
    "data.district.unique()"
   ]
  },
  {
   "cell_type": "code",
   "execution_count": 17,
   "metadata": {},
   "outputs": [],
   "source": [
    "data.district.fillna(value='NA',inplace=True)"
   ]
  },
  {
   "cell_type": "code",
   "execution_count": 20,
   "metadata": {},
   "outputs": [],
   "source": [
    "tmp = data.district.str[-2:]"
   ]
  },
  {
   "cell_type": "code",
   "execution_count": 22,
   "metadata": {},
   "outputs": [
    {
     "data": {
      "text/plain": [
       "(4715031,)"
      ]
     },
     "execution_count": 22,
     "metadata": {},
     "output_type": "execute_result"
    }
   ],
   "source": [
    "tmp.shape"
   ]
  },
  {
   "cell_type": "code",
   "execution_count": 23,
   "metadata": {},
   "outputs": [
    {
     "data": {
      "text/plain": [
       "0     ILLINOIS STATE POLICE 17\n",
       "1     ILLINOIS STATE POLICE 07\n",
       "2     ILLINOIS STATE POLICE 11\n",
       "3     ILLINOIS STATE POLICE 03\n",
       "4     ILLINOIS STATE POLICE 09\n",
       "5     ILLINOIS STATE POLICE 09\n",
       "6     ILLINOIS STATE POLICE 08\n",
       "7     ILLINOIS STATE POLICE 15\n",
       "8     ILLINOIS STATE POLICE 15\n",
       "9     ILLINOIS STATE POLICE 22\n",
       "10    ILLINOIS STATE POLICE 08\n",
       "11    ILLINOIS STATE POLICE 22\n",
       "12    ILLINOIS STATE POLICE 08\n",
       "13    ILLINOIS STATE POLICE 11\n",
       "14    ILLINOIS STATE POLICE 09\n",
       "15    ILLINOIS STATE POLICE 09\n",
       "16    ILLINOIS STATE POLICE 11\n",
       "17    ILLINOIS STATE POLICE 07\n",
       "18    ILLINOIS STATE POLICE 08\n",
       "19    ILLINOIS STATE POLICE 08\n",
       "Name: district, dtype: object"
      ]
     },
     "execution_count": 23,
     "metadata": {},
     "output_type": "execute_result"
    }
   ],
   "source": [
    "data.district.head(20)"
   ]
  },
  {
   "cell_type": "code",
   "execution_count": 47,
   "metadata": {},
   "outputs": [],
   "source": [
    "str = 'ILLINOIS STATE POLICE 17'"
   ]
  },
  {
   "cell_type": "code",
   "execution_count": 66,
   "metadata": {},
   "outputs": [
    {
     "data": {
      "text/plain": [
       "'17'"
      ]
     },
     "execution_count": 66,
     "metadata": {},
     "output_type": "execute_result"
    }
   ],
   "source": [
    "str[-2:24]"
   ]
  },
  {
   "cell_type": "code",
   "execution_count": 24,
   "metadata": {},
   "outputs": [
    {
     "data": {
      "text/plain": [
       "0"
      ]
     },
     "execution_count": 24,
     "metadata": {},
     "output_type": "execute_result"
    }
   ],
   "source": [
    "tmp.isnull().sum()"
   ]
  },
  {
   "cell_type": "code",
   "execution_count": 25,
   "metadata": {},
   "outputs": [],
   "source": [
    "data.district = tmp"
   ]
  },
  {
   "cell_type": "code",
   "execution_count": 29,
   "metadata": {},
   "outputs": [
    {
     "data": {
      "text/plain": [
       "id                             0\n",
       "state                          0\n",
       "stop_date                      0\n",
       "stop_time                      0\n",
       "location_raw                 266\n",
       "fine_grained_location        266\n",
       "police_department              0\n",
       "driver_gender                  0\n",
       "driver_age_raw                 0\n",
       "driver_age                  2930\n",
       "driver_race_raw                0\n",
       "driver_race                    0\n",
       "violation_raw                  0\n",
       "violation                      0\n",
       "search_conducted               0\n",
       "search_type_raw          4527284\n",
       "search_type              4560448\n",
       "contraband_found               0\n",
       "stop_outcome                   0\n",
       "stop_duration            1283697\n",
       "vehicle_type                   0\n",
       "drugs_related_stop             0\n",
       "district                       0\n",
       "dtype: int64"
      ]
     },
     "execution_count": 29,
     "metadata": {},
     "output_type": "execute_result"
    }
   ],
   "source": [
    "data.isnull().sum()"
   ]
  },
  {
   "cell_type": "code",
   "execution_count": 27,
   "metadata": {},
   "outputs": [],
   "source": [
    "data.dropna(subset=['stop_date'],inplace=True)"
   ]
  },
  {
   "cell_type": "code",
   "execution_count": 31,
   "metadata": {},
   "outputs": [
    {
     "data": {
      "text/html": [
       "<div>\n",
       "<style scoped>\n",
       "    .dataframe tbody tr th:only-of-type {\n",
       "        vertical-align: middle;\n",
       "    }\n",
       "\n",
       "    .dataframe tbody tr th {\n",
       "        vertical-align: top;\n",
       "    }\n",
       "\n",
       "    .dataframe thead th {\n",
       "        text-align: right;\n",
       "    }\n",
       "</style>\n",
       "<table border=\"1\" class=\"dataframe\">\n",
       "  <thead>\n",
       "    <tr style=\"text-align: right;\">\n",
       "      <th></th>\n",
       "      <th>id</th>\n",
       "      <th>state</th>\n",
       "      <th>stop_date</th>\n",
       "      <th>stop_time</th>\n",
       "      <th>location_raw</th>\n",
       "      <th>fine_grained_location</th>\n",
       "      <th>police_department</th>\n",
       "      <th>driver_gender</th>\n",
       "      <th>driver_age_raw</th>\n",
       "      <th>driver_age</th>\n",
       "      <th>...</th>\n",
       "      <th>violation</th>\n",
       "      <th>search_conducted</th>\n",
       "      <th>search_type_raw</th>\n",
       "      <th>search_type</th>\n",
       "      <th>contraband_found</th>\n",
       "      <th>stop_outcome</th>\n",
       "      <th>stop_duration</th>\n",
       "      <th>vehicle_type</th>\n",
       "      <th>drugs_related_stop</th>\n",
       "      <th>district</th>\n",
       "    </tr>\n",
       "  </thead>\n",
       "  <tbody>\n",
       "    <tr>\n",
       "      <th>0</th>\n",
       "      <td>IL-2004-000001</td>\n",
       "      <td>IL</td>\n",
       "      <td>2004-01-01 00:02:00</td>\n",
       "      <td>00:02</td>\n",
       "      <td>ILLINOIS STATE POLICE 17</td>\n",
       "      <td>17</td>\n",
       "      <td>Illinois State Police</td>\n",
       "      <td>F</td>\n",
       "      <td>1963.0</td>\n",
       "      <td>41.0</td>\n",
       "      <td>...</td>\n",
       "      <td>Speeding</td>\n",
       "      <td>False</td>\n",
       "      <td>NaN</td>\n",
       "      <td>NaN</td>\n",
       "      <td>False</td>\n",
       "      <td>Written Warning</td>\n",
       "      <td>NaN</td>\n",
       "      <td>Olds 2000</td>\n",
       "      <td>False</td>\n",
       "      <td>17</td>\n",
       "    </tr>\n",
       "    <tr>\n",
       "      <th>1</th>\n",
       "      <td>IL-2004-000002</td>\n",
       "      <td>IL</td>\n",
       "      <td>2004-01-01 00:07:00</td>\n",
       "      <td>00:07</td>\n",
       "      <td>ILLINOIS STATE POLICE 07</td>\n",
       "      <td>07</td>\n",
       "      <td>Illinois State Police</td>\n",
       "      <td>M</td>\n",
       "      <td>1987.0</td>\n",
       "      <td>17.0</td>\n",
       "      <td>...</td>\n",
       "      <td>Safe movement</td>\n",
       "      <td>False</td>\n",
       "      <td>NaN</td>\n",
       "      <td>NaN</td>\n",
       "      <td>False</td>\n",
       "      <td>Written Warning</td>\n",
       "      <td>NaN</td>\n",
       "      <td>Linc 1990</td>\n",
       "      <td>False</td>\n",
       "      <td>07</td>\n",
       "    </tr>\n",
       "    <tr>\n",
       "      <th>2</th>\n",
       "      <td>IL-2004-000003</td>\n",
       "      <td>IL</td>\n",
       "      <td>2004-01-01 00:14:00</td>\n",
       "      <td>00:14</td>\n",
       "      <td>ILLINOIS STATE POLICE 11</td>\n",
       "      <td>11</td>\n",
       "      <td>Illinois State Police</td>\n",
       "      <td>M</td>\n",
       "      <td>1981.0</td>\n",
       "      <td>23.0</td>\n",
       "      <td>...</td>\n",
       "      <td>Speeding</td>\n",
       "      <td>False</td>\n",
       "      <td>NaN</td>\n",
       "      <td>NaN</td>\n",
       "      <td>False</td>\n",
       "      <td>Citation</td>\n",
       "      <td>NaN</td>\n",
       "      <td>Chev 1996</td>\n",
       "      <td>False</td>\n",
       "      <td>11</td>\n",
       "    </tr>\n",
       "    <tr>\n",
       "      <th>3</th>\n",
       "      <td>IL-2004-000004</td>\n",
       "      <td>IL</td>\n",
       "      <td>2004-01-01 00:15:00</td>\n",
       "      <td>00:15</td>\n",
       "      <td>ILLINOIS STATE POLICE 03</td>\n",
       "      <td>03</td>\n",
       "      <td>Illinois State Police</td>\n",
       "      <td>F</td>\n",
       "      <td>1972.0</td>\n",
       "      <td>32.0</td>\n",
       "      <td>...</td>\n",
       "      <td>Moving violation</td>\n",
       "      <td>False</td>\n",
       "      <td>NaN</td>\n",
       "      <td>NaN</td>\n",
       "      <td>False</td>\n",
       "      <td>Citation</td>\n",
       "      <td>NaN</td>\n",
       "      <td>Buic 1992</td>\n",
       "      <td>False</td>\n",
       "      <td>03</td>\n",
       "    </tr>\n",
       "    <tr>\n",
       "      <th>4</th>\n",
       "      <td>IL-2004-000005</td>\n",
       "      <td>IL</td>\n",
       "      <td>2004-01-01 00:15:00</td>\n",
       "      <td>00:15</td>\n",
       "      <td>ILLINOIS STATE POLICE 09</td>\n",
       "      <td>09</td>\n",
       "      <td>Illinois State Police</td>\n",
       "      <td>F</td>\n",
       "      <td>1980.0</td>\n",
       "      <td>24.0</td>\n",
       "      <td>...</td>\n",
       "      <td>Moving violation</td>\n",
       "      <td>False</td>\n",
       "      <td>NaN</td>\n",
       "      <td>NaN</td>\n",
       "      <td>False</td>\n",
       "      <td>Citation</td>\n",
       "      <td>NaN</td>\n",
       "      <td>Olds 1996</td>\n",
       "      <td>False</td>\n",
       "      <td>09</td>\n",
       "    </tr>\n",
       "  </tbody>\n",
       "</table>\n",
       "<p>5 rows × 23 columns</p>\n",
       "</div>"
      ],
      "text/plain": [
       "               id state           stop_date stop_time  \\\n",
       "0  IL-2004-000001    IL 2004-01-01 00:02:00     00:02   \n",
       "1  IL-2004-000002    IL 2004-01-01 00:07:00     00:07   \n",
       "2  IL-2004-000003    IL 2004-01-01 00:14:00     00:14   \n",
       "3  IL-2004-000004    IL 2004-01-01 00:15:00     00:15   \n",
       "4  IL-2004-000005    IL 2004-01-01 00:15:00     00:15   \n",
       "\n",
       "               location_raw fine_grained_location      police_department  \\\n",
       "0  ILLINOIS STATE POLICE 17                    17  Illinois State Police   \n",
       "1  ILLINOIS STATE POLICE 07                    07  Illinois State Police   \n",
       "2  ILLINOIS STATE POLICE 11                    11  Illinois State Police   \n",
       "3  ILLINOIS STATE POLICE 03                    03  Illinois State Police   \n",
       "4  ILLINOIS STATE POLICE 09                    09  Illinois State Police   \n",
       "\n",
       "  driver_gender  driver_age_raw  driver_age    ...            violation  \\\n",
       "0             F          1963.0        41.0    ...             Speeding   \n",
       "1             M          1987.0        17.0    ...        Safe movement   \n",
       "2             M          1981.0        23.0    ...             Speeding   \n",
       "3             F          1972.0        32.0    ...     Moving violation   \n",
       "4             F          1980.0        24.0    ...     Moving violation   \n",
       "\n",
       "  search_conducted search_type_raw search_type  contraband_found  \\\n",
       "0            False             NaN         NaN             False   \n",
       "1            False             NaN         NaN             False   \n",
       "2            False             NaN         NaN             False   \n",
       "3            False             NaN         NaN             False   \n",
       "4            False             NaN         NaN             False   \n",
       "\n",
       "      stop_outcome stop_duration  vehicle_type drugs_related_stop  district  \n",
       "0  Written Warning           NaN     Olds 2000              False        17  \n",
       "1  Written Warning           NaN     Linc 1990              False        07  \n",
       "2         Citation           NaN     Chev 1996              False        11  \n",
       "3         Citation           NaN     Buic 1992              False        03  \n",
       "4         Citation           NaN     Olds 1996              False        09  \n",
       "\n",
       "[5 rows x 23 columns]"
      ]
     },
     "execution_count": 31,
     "metadata": {},
     "output_type": "execute_result"
    }
   ],
   "source": [
    "data.head()"
   ]
  },
  {
   "cell_type": "code",
   "execution_count": 28,
   "metadata": {},
   "outputs": [
    {
     "data": {
      "text/plain": [
       "(4712700, 23)"
      ]
     },
     "execution_count": 28,
     "metadata": {},
     "output_type": "execute_result"
    }
   ],
   "source": [
    "data.shape"
   ]
  },
  {
   "cell_type": "code",
   "execution_count": 48,
   "metadata": {},
   "outputs": [],
   "source": [
    "data.to_csv('ETL_police.csv.gzip',compression='gzip',chunksize=100000)"
   ]
  },
  {
   "cell_type": "code",
   "execution_count": 53,
   "metadata": {},
   "outputs": [],
   "source": [
    "data.to_csv('ETL_police.csv.bz2',compression='bz2',index=False)"
   ]
  },
  {
   "cell_type": "code",
   "execution_count": 3,
   "metadata": {},
   "outputs": [],
   "source": [
    "data = pd.read_csv('ETL_police2.csv.bz2',compression='bz2',low_memory=False)"
   ]
  },
  {
   "cell_type": "code",
   "execution_count": 4,
   "metadata": {},
   "outputs": [
    {
     "data": {
      "text/html": [
       "<div>\n",
       "<style scoped>\n",
       "    .dataframe tbody tr th:only-of-type {\n",
       "        vertical-align: middle;\n",
       "    }\n",
       "\n",
       "    .dataframe tbody tr th {\n",
       "        vertical-align: top;\n",
       "    }\n",
       "\n",
       "    .dataframe thead th {\n",
       "        text-align: right;\n",
       "    }\n",
       "</style>\n",
       "<table border=\"1\" class=\"dataframe\">\n",
       "  <thead>\n",
       "    <tr style=\"text-align: right;\">\n",
       "      <th></th>\n",
       "      <th>id</th>\n",
       "      <th>state</th>\n",
       "      <th>stop_date</th>\n",
       "      <th>stop_time</th>\n",
       "      <th>location_raw</th>\n",
       "      <th>fine_grained_location</th>\n",
       "      <th>police_department</th>\n",
       "      <th>driver_gender</th>\n",
       "      <th>driver_age_raw</th>\n",
       "      <th>driver_age</th>\n",
       "      <th>...</th>\n",
       "      <th>violation</th>\n",
       "      <th>search_conducted</th>\n",
       "      <th>search_type_raw</th>\n",
       "      <th>search_type</th>\n",
       "      <th>contraband_found</th>\n",
       "      <th>stop_outcome</th>\n",
       "      <th>stop_duration</th>\n",
       "      <th>vehicle_type</th>\n",
       "      <th>drugs_related_stop</th>\n",
       "      <th>district</th>\n",
       "    </tr>\n",
       "  </thead>\n",
       "  <tbody>\n",
       "    <tr>\n",
       "      <th>0</th>\n",
       "      <td>IL-2004-000001</td>\n",
       "      <td>IL</td>\n",
       "      <td>2004-01-01 00:02:00</td>\n",
       "      <td>00:02</td>\n",
       "      <td>ILLINOIS STATE POLICE 17</td>\n",
       "      <td>17</td>\n",
       "      <td>Illinois State Police</td>\n",
       "      <td>F</td>\n",
       "      <td>1963.0</td>\n",
       "      <td>41.0</td>\n",
       "      <td>...</td>\n",
       "      <td>Speeding</td>\n",
       "      <td>False</td>\n",
       "      <td>NaN</td>\n",
       "      <td>NaN</td>\n",
       "      <td>False</td>\n",
       "      <td>Written Warning</td>\n",
       "      <td>NaN</td>\n",
       "      <td>Olds 2000</td>\n",
       "      <td>False</td>\n",
       "      <td>False</td>\n",
       "    </tr>\n",
       "    <tr>\n",
       "      <th>1</th>\n",
       "      <td>IL-2004-000002</td>\n",
       "      <td>IL</td>\n",
       "      <td>2004-01-01 00:07:00</td>\n",
       "      <td>00:07</td>\n",
       "      <td>ILLINOIS STATE POLICE 07</td>\n",
       "      <td>07</td>\n",
       "      <td>Illinois State Police</td>\n",
       "      <td>M</td>\n",
       "      <td>1987.0</td>\n",
       "      <td>17.0</td>\n",
       "      <td>...</td>\n",
       "      <td>Safe movement</td>\n",
       "      <td>False</td>\n",
       "      <td>NaN</td>\n",
       "      <td>NaN</td>\n",
       "      <td>False</td>\n",
       "      <td>Written Warning</td>\n",
       "      <td>NaN</td>\n",
       "      <td>Linc 1990</td>\n",
       "      <td>False</td>\n",
       "      <td>False</td>\n",
       "    </tr>\n",
       "    <tr>\n",
       "      <th>2</th>\n",
       "      <td>IL-2004-000003</td>\n",
       "      <td>IL</td>\n",
       "      <td>2004-01-01 00:14:00</td>\n",
       "      <td>00:14</td>\n",
       "      <td>ILLINOIS STATE POLICE 11</td>\n",
       "      <td>11</td>\n",
       "      <td>Illinois State Police</td>\n",
       "      <td>M</td>\n",
       "      <td>1981.0</td>\n",
       "      <td>23.0</td>\n",
       "      <td>...</td>\n",
       "      <td>Speeding</td>\n",
       "      <td>False</td>\n",
       "      <td>NaN</td>\n",
       "      <td>NaN</td>\n",
       "      <td>False</td>\n",
       "      <td>Citation</td>\n",
       "      <td>NaN</td>\n",
       "      <td>Chev 1996</td>\n",
       "      <td>False</td>\n",
       "      <td>False</td>\n",
       "    </tr>\n",
       "    <tr>\n",
       "      <th>3</th>\n",
       "      <td>IL-2004-000004</td>\n",
       "      <td>IL</td>\n",
       "      <td>2004-01-01 00:15:00</td>\n",
       "      <td>00:15</td>\n",
       "      <td>ILLINOIS STATE POLICE 03</td>\n",
       "      <td>03</td>\n",
       "      <td>Illinois State Police</td>\n",
       "      <td>F</td>\n",
       "      <td>1972.0</td>\n",
       "      <td>32.0</td>\n",
       "      <td>...</td>\n",
       "      <td>Moving violation</td>\n",
       "      <td>False</td>\n",
       "      <td>NaN</td>\n",
       "      <td>NaN</td>\n",
       "      <td>False</td>\n",
       "      <td>Citation</td>\n",
       "      <td>NaN</td>\n",
       "      <td>Buic 1992</td>\n",
       "      <td>False</td>\n",
       "      <td>False</td>\n",
       "    </tr>\n",
       "    <tr>\n",
       "      <th>4</th>\n",
       "      <td>IL-2004-000005</td>\n",
       "      <td>IL</td>\n",
       "      <td>2004-01-01 00:15:00</td>\n",
       "      <td>00:15</td>\n",
       "      <td>ILLINOIS STATE POLICE 09</td>\n",
       "      <td>09</td>\n",
       "      <td>Illinois State Police</td>\n",
       "      <td>F</td>\n",
       "      <td>1980.0</td>\n",
       "      <td>24.0</td>\n",
       "      <td>...</td>\n",
       "      <td>Moving violation</td>\n",
       "      <td>False</td>\n",
       "      <td>NaN</td>\n",
       "      <td>NaN</td>\n",
       "      <td>False</td>\n",
       "      <td>Citation</td>\n",
       "      <td>NaN</td>\n",
       "      <td>Olds 1996</td>\n",
       "      <td>False</td>\n",
       "      <td>False</td>\n",
       "    </tr>\n",
       "  </tbody>\n",
       "</table>\n",
       "<p>5 rows × 23 columns</p>\n",
       "</div>"
      ],
      "text/plain": [
       "               id state            stop_date stop_time  \\\n",
       "0  IL-2004-000001    IL  2004-01-01 00:02:00     00:02   \n",
       "1  IL-2004-000002    IL  2004-01-01 00:07:00     00:07   \n",
       "2  IL-2004-000003    IL  2004-01-01 00:14:00     00:14   \n",
       "3  IL-2004-000004    IL  2004-01-01 00:15:00     00:15   \n",
       "4  IL-2004-000005    IL  2004-01-01 00:15:00     00:15   \n",
       "\n",
       "               location_raw fine_grained_location      police_department  \\\n",
       "0  ILLINOIS STATE POLICE 17                    17  Illinois State Police   \n",
       "1  ILLINOIS STATE POLICE 07                    07  Illinois State Police   \n",
       "2  ILLINOIS STATE POLICE 11                    11  Illinois State Police   \n",
       "3  ILLINOIS STATE POLICE 03                    03  Illinois State Police   \n",
       "4  ILLINOIS STATE POLICE 09                    09  Illinois State Police   \n",
       "\n",
       "  driver_gender  driver_age_raw  driver_age    ...            violation  \\\n",
       "0             F          1963.0        41.0    ...             Speeding   \n",
       "1             M          1987.0        17.0    ...        Safe movement   \n",
       "2             M          1981.0        23.0    ...             Speeding   \n",
       "3             F          1972.0        32.0    ...     Moving violation   \n",
       "4             F          1980.0        24.0    ...     Moving violation   \n",
       "\n",
       "  search_conducted search_type_raw search_type  contraband_found  \\\n",
       "0            False             NaN         NaN             False   \n",
       "1            False             NaN         NaN             False   \n",
       "2            False             NaN         NaN             False   \n",
       "3            False             NaN         NaN             False   \n",
       "4            False             NaN         NaN             False   \n",
       "\n",
       "      stop_outcome stop_duration  vehicle_type drugs_related_stop  district  \n",
       "0  Written Warning           NaN     Olds 2000              False     False  \n",
       "1  Written Warning           NaN     Linc 1990              False     False  \n",
       "2         Citation           NaN     Chev 1996              False     False  \n",
       "3         Citation           NaN     Buic 1992              False     False  \n",
       "4         Citation           NaN     Olds 1996              False     False  \n",
       "\n",
       "[5 rows x 23 columns]"
      ]
     },
     "execution_count": 4,
     "metadata": {},
     "output_type": "execute_result"
    }
   ],
   "source": [
    "data.head()"
   ]
  },
  {
   "cell_type": "code",
   "execution_count": 56,
   "metadata": {},
   "outputs": [
    {
     "data": {
      "text/plain": [
       "(4712700, 23)"
      ]
     },
     "execution_count": 56,
     "metadata": {},
     "output_type": "execute_result"
    }
   ],
   "source": [
    "data.shape"
   ]
  },
  {
   "cell_type": "code",
   "execution_count": 57,
   "metadata": {},
   "outputs": [
    {
     "data": {
      "text/plain": [
       "Index(['id', 'state', 'stop_date', 'stop_time', 'location_raw',\n",
       "       'fine_grained_location', 'police_department', 'driver_gender',\n",
       "       'driver_age_raw', 'driver_age', 'driver_race_raw', 'driver_race',\n",
       "       'violation_raw', 'violation', 'search_conducted', 'search_type_raw',\n",
       "       'search_type', 'contraband_found', 'stop_outcome', 'stop_duration',\n",
       "       'vehicle_type', 'drugs_related_stop', 'district'],\n",
       "      dtype='object')"
      ]
     },
     "execution_count": 57,
     "metadata": {},
     "output_type": "execute_result"
    }
   ],
   "source": [
    "data.columns"
   ]
  },
  {
   "cell_type": "code",
   "execution_count": 62,
   "metadata": {},
   "outputs": [
    {
     "data": {
      "text/plain": [
       "id                             0\n",
       "state                          0\n",
       "stop_date                      0\n",
       "stop_time                      0\n",
       "location_raw                 266\n",
       "fine_grained_location        266\n",
       "police_department              0\n",
       "driver_gender                  0\n",
       "driver_age_raw                 0\n",
       "driver_age                     0\n",
       "driver_race_raw                0\n",
       "driver_race                    0\n",
       "violation_raw                  0\n",
       "violation                      0\n",
       "search_conducted               0\n",
       "search_type_raw          4524462\n",
       "search_type                    0\n",
       "contraband_found               0\n",
       "stop_outcome                   0\n",
       "stop_duration            1282866\n",
       "vehicle_type                   0\n",
       "drugs_related_stop             0\n",
       "district                       0\n",
       "dtype: int64"
      ]
     },
     "execution_count": 62,
     "metadata": {},
     "output_type": "execute_result"
    }
   ],
   "source": [
    "data.isnull().sum()"
   ]
  },
  {
   "cell_type": "code",
   "execution_count": 32,
   "metadata": {},
   "outputs": [],
   "source": [
    "data.dropna(subset=['driver_age'],inplace=True)"
   ]
  },
  {
   "cell_type": "code",
   "execution_count": 33,
   "metadata": {},
   "outputs": [],
   "source": [
    "data.search_type.fillna(value='None',inplace=True)"
   ]
  },
  {
   "cell_type": "code",
   "execution_count": 2,
   "metadata": {},
   "outputs": [
    {
     "ename": "NameError",
     "evalue": "name 'data' is not defined",
     "output_type": "error",
     "traceback": [
      "\u001b[1;31m---------------------------------------------------------------------------\u001b[0m",
      "\u001b[1;31mNameError\u001b[0m                                 Traceback (most recent call last)",
      "\u001b[1;32m<ipython-input-2-62187f3e4801>\u001b[0m in \u001b[0;36m<module>\u001b[1;34m()\u001b[0m\n\u001b[1;32m----> 1\u001b[1;33m \u001b[0mdata\u001b[0m\u001b[1;33m.\u001b[0m\u001b[0mto_csv\u001b[0m\u001b[1;33m(\u001b[0m\u001b[1;34m'ETL_police2.csv.bz2'\u001b[0m\u001b[1;33m,\u001b[0m\u001b[0mcompression\u001b[0m\u001b[1;33m=\u001b[0m\u001b[1;34m'bz2'\u001b[0m\u001b[1;33m,\u001b[0m\u001b[0mindex\u001b[0m\u001b[1;33m=\u001b[0m\u001b[1;32mFalse\u001b[0m\u001b[1;33m)\u001b[0m\u001b[1;33m\u001b[0m\u001b[0m\n\u001b[0m",
      "\u001b[1;31mNameError\u001b[0m: name 'data' is not defined"
     ]
    }
   ],
   "source": [
    "data.to_csv('ETL_police2.csv.bz2',compression='bz2',index=False)"
   ]
  },
  {
   "cell_type": "code",
   "execution_count": 34,
   "metadata": {},
   "outputs": [
    {
     "data": {
      "text/plain": [
       "0    17\n",
       "1    07\n",
       "2    11\n",
       "3    03\n",
       "4    09\n",
       "Name: district, dtype: object"
      ]
     },
     "execution_count": 34,
     "metadata": {},
     "output_type": "execute_result"
    }
   ],
   "source": [
    "data.district.head()"
   ]
  },
  {
   "cell_type": "code",
   "execution_count": 37,
   "metadata": {},
   "outputs": [],
   "source": [
    "import seaborn as sns"
   ]
  },
  {
   "cell_type": "code",
   "execution_count": 42,
   "metadata": {},
   "outputs": [
    {
     "data": {
      "text/plain": [
       "<matplotlib.axes._subplots.AxesSubplot at 0x704ea080>"
      ]
     },
     "execution_count": 42,
     "metadata": {},
     "output_type": "execute_result"
    },
    {
     "data": {
      "image/png": "[encoded data removed]",
      "text/plain": [
       "<matplotlib.figure.Figure at 0x704d70b8>"
      ]
     },
     "metadata": {},
     "output_type": "display_data"
    }
   ],
   "source": [
    "sns.heatmap(data[:].corr(),cmap='summer',annot=True)"
   ]
  },
  {
   "cell_type": "code",
   "execution_count": 19,
   "metadata": {},
   "outputs": [
    {
     "data": {
      "text/plain": [
       "array([[<matplotlib.axes._subplots.AxesSubplot object at 0x000000001D3B12E8>,\n",
       "        <matplotlib.axes._subplots.AxesSubplot object at 0x000000001D40E198>],\n",
       "       [<matplotlib.axes._subplots.AxesSubplot object at 0x000000001D438FD0>,\n",
       "        <matplotlib.axes._subplots.AxesSubplot object at 0x000000001D474358>],\n",
       "       [<matplotlib.axes._subplots.AxesSubplot object at 0x000000001D4B1E10>,\n",
       "        <matplotlib.axes._subplots.AxesSubplot object at 0x000000001D4B1E48>]],\n",
       "      dtype=object)"
      ]
     },
     "execution_count": 19,
     "metadata": {},
     "output_type": "execute_result"
    },
    {
     "data": {
      "image/png": "[encoded data removed]",
      "text/plain": [
       "<matplotlib.figure.Figure at 0x1d374588>"
      ]
     },
     "metadata": {},
     "output_type": "display_data"
    }
   ],
   "source": [
    "data.driver_age.hist(by=data.driver_race,sharex=True,figsize=(20,8),bins=20)"
   ]
  },
  {
   "cell_type": "code",
   "execution_count": 20,
   "metadata": {},
   "outputs": [
    {
     "data": {
      "text/plain": [
       "<matplotlib.axes._subplots.AxesSubplot at 0x1d3b1a90>"
      ]
     },
     "execution_count": 20,
     "metadata": {},
     "output_type": "execute_result"
    },
    {
     "data": {
      "image/png": "[encoded data removed]",
      "text/plain": [
       "<matplotlib.figure.Figure at 0x33940128>"
      ]
     },
     "metadata": {},
     "output_type": "display_data"
    }
   ],
   "source": [
    "data.driver_age.plot.kde()"
   ]
  },
  {
   "cell_type": "code",
   "execution_count": 14,
   "metadata": {},
   "outputs": [
    {
     "data": {
      "text/plain": [
       "<matplotlib.axes._subplots.AxesSubplot at 0x18a7b9b0>"
      ]
     },
     "execution_count": 14,
     "metadata": {},
     "output_type": "execute_result"
    },
    {
     "data": {
      "image/png": "[encoded data removed]",
      "text/plain": [
       "<matplotlib.figure.Figure at 0x1873eda0>"
      ]
     },
     "metadata": {},
     "output_type": "display_data"
    }
   ],
   "source": [
    "data.violation.value_counts(normalize=True).plot(kind='bar')"
   ]
  },
  {
   "cell_type": "code",
   "execution_count": 17,
   "metadata": {},
   "outputs": [
    {
     "data": {
      "text/plain": [
       "Citation           0.564035\n",
       "Written Warning    0.423241\n",
       "Verbal Warning     0.012724\n",
       "Name: stop_outcome, dtype: float64"
      ]
     },
     "execution_count": 17,
     "metadata": {},
     "output_type": "execute_result"
    }
   ],
   "source": [
    "data.stop_outcome.value_counts(normalize=True)"
   ]
  },
  {
   "cell_type": "code",
   "execution_count": 23,
   "metadata": {},
   "outputs": [
    {
     "data": {
      "text/html": [
       "<div>\n",
       "<style scoped>\n",
       "    .dataframe tbody tr th:only-of-type {\n",
       "        vertical-align: middle;\n",
       "    }\n",
       "\n",
       "    .dataframe tbody tr th {\n",
       "        vertical-align: top;\n",
       "    }\n",
       "\n",
       "    .dataframe thead th {\n",
       "        text-align: right;\n",
       "    }\n",
       "</style>\n",
       "<table border=\"1\" class=\"dataframe\">\n",
       "  <thead>\n",
       "    <tr style=\"text-align: right;\">\n",
       "      <th></th>\n",
       "      <th></th>\n",
       "      <th>driver_age_raw</th>\n",
       "      <th>driver_age</th>\n",
       "      <th>stop_duration</th>\n",
       "    </tr>\n",
       "    <tr>\n",
       "      <th>driver_race</th>\n",
       "      <th></th>\n",
       "      <th></th>\n",
       "      <th></th>\n",
       "      <th></th>\n",
       "    </tr>\n",
       "  </thead>\n",
       "  <tbody>\n",
       "    <tr>\n",
       "      <th rowspan=\"8\" valign=\"top\">Asian</th>\n",
       "      <th>count</th>\n",
       "      <td>1.116430e+05</td>\n",
       "      <td>1.116430e+05</td>\n",
       "      <td>8.463000e+04</td>\n",
       "    </tr>\n",
       "    <tr>\n",
       "      <th>mean</th>\n",
       "      <td>1.974126e+03</td>\n",
       "      <td>3.530761e+01</td>\n",
       "      <td>1.421043e+01</td>\n",
       "    </tr>\n",
       "    <tr>\n",
       "      <th>std</th>\n",
       "      <td>1.284783e+01</td>\n",
       "      <td>1.256939e+01</td>\n",
       "      <td>1.347667e+01</td>\n",
       "    </tr>\n",
       "    <tr>\n",
       "      <th>min</th>\n",
       "      <td>1.908000e+03</td>\n",
       "      <td>1.500000e+01</td>\n",
       "      <td>-2.400000e+01</td>\n",
       "    </tr>\n",
       "    <tr>\n",
       "      <th>25%</th>\n",
       "      <td>1.966000e+03</td>\n",
       "      <td>2.500000e+01</td>\n",
       "      <td>1.000000e+01</td>\n",
       "    </tr>\n",
       "    <tr>\n",
       "      <th>50%</th>\n",
       "      <td>1.977000e+03</td>\n",
       "      <td>3.300000e+01</td>\n",
       "      <td>1.200000e+01</td>\n",
       "    </tr>\n",
       "    <tr>\n",
       "      <th>75%</th>\n",
       "      <td>1.984000e+03</td>\n",
       "      <td>4.400000e+01</td>\n",
       "      <td>1.500000e+01</td>\n",
       "    </tr>\n",
       "    <tr>\n",
       "      <th>max</th>\n",
       "      <td>1.999000e+03</td>\n",
       "      <td>9.900000e+01</td>\n",
       "      <td>9.990000e+02</td>\n",
       "    </tr>\n",
       "    <tr>\n",
       "      <th rowspan=\"8\" valign=\"top\">Black</th>\n",
       "      <th>count</th>\n",
       "      <td>7.950240e+05</td>\n",
       "      <td>7.950240e+05</td>\n",
       "      <td>5.878870e+05</td>\n",
       "    </tr>\n",
       "    <tr>\n",
       "      <th>mean</th>\n",
       "      <td>1.974172e+03</td>\n",
       "      <td>3.510697e+01</td>\n",
       "      <td>1.609885e+01</td>\n",
       "    </tr>\n",
       "    <tr>\n",
       "      <th>std</th>\n",
       "      <td>1.295539e+01</td>\n",
       "      <td>1.259005e+01</td>\n",
       "      <td>1.635426e+01</td>\n",
       "    </tr>\n",
       "    <tr>\n",
       "      <th>min</th>\n",
       "      <td>1.905000e+03</td>\n",
       "      <td>1.500000e+01</td>\n",
       "      <td>-3.500000e+01</td>\n",
       "    </tr>\n",
       "    <tr>\n",
       "      <th>25%</th>\n",
       "      <td>1.966000e+03</td>\n",
       "      <td>2.500000e+01</td>\n",
       "      <td>1.000000e+01</td>\n",
       "    </tr>\n",
       "    <tr>\n",
       "      <th>50%</th>\n",
       "      <td>1.976000e+03</td>\n",
       "      <td>3.300000e+01</td>\n",
       "      <td>1.500000e+01</td>\n",
       "    </tr>\n",
       "    <tr>\n",
       "      <th>75%</th>\n",
       "      <td>1.984000e+03</td>\n",
       "      <td>4.300000e+01</td>\n",
       "      <td>1.500000e+01</td>\n",
       "    </tr>\n",
       "    <tr>\n",
       "      <th>max</th>\n",
       "      <td>2.000000e+03</td>\n",
       "      <td>9.900000e+01</td>\n",
       "      <td>9.990000e+02</td>\n",
       "    </tr>\n",
       "    <tr>\n",
       "      <th rowspan=\"8\" valign=\"top\">Hispanic</th>\n",
       "      <th>count</th>\n",
       "      <td>3.597810e+05</td>\n",
       "      <td>3.597810e+05</td>\n",
       "      <td>2.677050e+05</td>\n",
       "    </tr>\n",
       "    <tr>\n",
       "      <th>mean</th>\n",
       "      <td>1.975867e+03</td>\n",
       "      <td>3.342618e+01</td>\n",
       "      <td>1.758508e+01</td>\n",
       "    </tr>\n",
       "    <tr>\n",
       "      <th>std</th>\n",
       "      <td>1.143962e+01</td>\n",
       "      <td>1.123730e+01</td>\n",
       "      <td>1.639243e+01</td>\n",
       "    </tr>\n",
       "    <tr>\n",
       "      <th>min</th>\n",
       "      <td>1.905000e+03</td>\n",
       "      <td>1.500000e+01</td>\n",
       "      <td>-1.700000e+01</td>\n",
       "    </tr>\n",
       "    <tr>\n",
       "      <th>25%</th>\n",
       "      <td>1.969000e+03</td>\n",
       "      <td>2.400000e+01</td>\n",
       "      <td>1.000000e+01</td>\n",
       "    </tr>\n",
       "    <tr>\n",
       "      <th>50%</th>\n",
       "      <td>1.978000e+03</td>\n",
       "      <td>3.100000e+01</td>\n",
       "      <td>1.500000e+01</td>\n",
       "    </tr>\n",
       "    <tr>\n",
       "      <th>75%</th>\n",
       "      <td>1.985000e+03</td>\n",
       "      <td>4.000000e+01</td>\n",
       "      <td>2.000000e+01</td>\n",
       "    </tr>\n",
       "    <tr>\n",
       "      <th>max</th>\n",
       "      <td>2.000000e+03</td>\n",
       "      <td>9.900000e+01</td>\n",
       "      <td>9.990000e+02</td>\n",
       "    </tr>\n",
       "    <tr>\n",
       "      <th rowspan=\"8\" valign=\"top\">Other</th>\n",
       "      <th>count</th>\n",
       "      <td>9.363000e+03</td>\n",
       "      <td>9.363000e+03</td>\n",
       "      <td>6.839000e+03</td>\n",
       "    </tr>\n",
       "    <tr>\n",
       "      <th>mean</th>\n",
       "      <td>1.973475e+03</td>\n",
       "      <td>3.594938e+01</td>\n",
       "      <td>1.498055e+01</td>\n",
       "    </tr>\n",
       "    <tr>\n",
       "      <th>std</th>\n",
       "      <td>1.309945e+01</td>\n",
       "      <td>1.276130e+01</td>\n",
       "      <td>1.503127e+01</td>\n",
       "    </tr>\n",
       "    <tr>\n",
       "      <th>min</th>\n",
       "      <td>1.908000e+03</td>\n",
       "      <td>1.500000e+01</td>\n",
       "      <td>1.000000e+00</td>\n",
       "    </tr>\n",
       "    <tr>\n",
       "      <th>25%</th>\n",
       "      <td>1.965000e+03</td>\n",
       "      <td>2.600000e+01</td>\n",
       "      <td>1.000000e+01</td>\n",
       "    </tr>\n",
       "    <tr>\n",
       "      <th>50%</th>\n",
       "      <td>1.976000e+03</td>\n",
       "      <td>3.300000e+01</td>\n",
       "      <td>1.400000e+01</td>\n",
       "    </tr>\n",
       "    <tr>\n",
       "      <th>75%</th>\n",
       "      <td>1.984000e+03</td>\n",
       "      <td>4.500000e+01</td>\n",
       "      <td>1.500000e+01</td>\n",
       "    </tr>\n",
       "    <tr>\n",
       "      <th>max</th>\n",
       "      <td>1.999000e+03</td>\n",
       "      <td>9.900000e+01</td>\n",
       "      <td>9.990000e+02</td>\n",
       "    </tr>\n",
       "    <tr>\n",
       "      <th rowspan=\"8\" valign=\"top\">White</th>\n",
       "      <th>count</th>\n",
       "      <td>3.433959e+06</td>\n",
       "      <td>3.433959e+06</td>\n",
       "      <td>2.479843e+06</td>\n",
       "    </tr>\n",
       "    <tr>\n",
       "      <th>mean</th>\n",
       "      <td>1.972294e+03</td>\n",
       "      <td>3.663609e+01</td>\n",
       "      <td>1.465019e+01</td>\n",
       "    </tr>\n",
       "    <tr>\n",
       "      <th>std</th>\n",
       "      <td>1.448562e+01</td>\n",
       "      <td>1.434191e+01</td>\n",
       "      <td>1.565915e+01</td>\n",
       "    </tr>\n",
       "    <tr>\n",
       "      <th>min</th>\n",
       "      <td>1.905000e+03</td>\n",
       "      <td>1.500000e+01</td>\n",
       "      <td>-4.500000e+01</td>\n",
       "    </tr>\n",
       "    <tr>\n",
       "      <th>25%</th>\n",
       "      <td>1.962000e+03</td>\n",
       "      <td>2.400000e+01</td>\n",
       "      <td>1.000000e+01</td>\n",
       "    </tr>\n",
       "    <tr>\n",
       "      <th>50%</th>\n",
       "      <td>1.975000e+03</td>\n",
       "      <td>3.400000e+01</td>\n",
       "      <td>1.200000e+01</td>\n",
       "    </tr>\n",
       "    <tr>\n",
       "      <th>75%</th>\n",
       "      <td>1.984000e+03</td>\n",
       "      <td>4.700000e+01</td>\n",
       "      <td>1.500000e+01</td>\n",
       "    </tr>\n",
       "    <tr>\n",
       "      <th>max</th>\n",
       "      <td>2.000000e+03</td>\n",
       "      <td>9.900000e+01</td>\n",
       "      <td>9.990000e+02</td>\n",
       "    </tr>\n",
       "  </tbody>\n",
       "</table>\n",
       "</div>"
      ],
      "text/plain": [
       "                   driver_age_raw    driver_age  stop_duration\n",
       "driver_race                                                   \n",
       "Asian       count    1.116430e+05  1.116430e+05   8.463000e+04\n",
       "            mean     1.974126e+03  3.530761e+01   1.421043e+01\n",
       "            std      1.284783e+01  1.256939e+01   1.347667e+01\n",
       "            min      1.908000e+03  1.500000e+01  -2.400000e+01\n",
       "            25%      1.966000e+03  2.500000e+01   1.000000e+01\n",
       "            50%      1.977000e+03  3.300000e+01   1.200000e+01\n",
       "            75%      1.984000e+03  4.400000e+01   1.500000e+01\n",
       "            max      1.999000e+03  9.900000e+01   9.990000e+02\n",
       "Black       count    7.950240e+05  7.950240e+05   5.878870e+05\n",
       "            mean     1.974172e+03  3.510697e+01   1.609885e+01\n",
       "            std      1.295539e+01  1.259005e+01   1.635426e+01\n",
       "            min      1.905000e+03  1.500000e+01  -3.500000e+01\n",
       "            25%      1.966000e+03  2.500000e+01   1.000000e+01\n",
       "            50%      1.976000e+03  3.300000e+01   1.500000e+01\n",
       "            75%      1.984000e+03  4.300000e+01   1.500000e+01\n",
       "            max      2.000000e+03  9.900000e+01   9.990000e+02\n",
       "Hispanic    count    3.597810e+05  3.597810e+05   2.677050e+05\n",
       "            mean     1.975867e+03  3.342618e+01   1.758508e+01\n",
       "            std      1.143962e+01  1.123730e+01   1.639243e+01\n",
       "            min      1.905000e+03  1.500000e+01  -1.700000e+01\n",
       "            25%      1.969000e+03  2.400000e+01   1.000000e+01\n",
       "            50%      1.978000e+03  3.100000e+01   1.500000e+01\n",
       "            75%      1.985000e+03  4.000000e+01   2.000000e+01\n",
       "            max      2.000000e+03  9.900000e+01   9.990000e+02\n",
       "Other       count    9.363000e+03  9.363000e+03   6.839000e+03\n",
       "            mean     1.973475e+03  3.594938e+01   1.498055e+01\n",
       "            std      1.309945e+01  1.276130e+01   1.503127e+01\n",
       "            min      1.908000e+03  1.500000e+01   1.000000e+00\n",
       "            25%      1.965000e+03  2.600000e+01   1.000000e+01\n",
       "            50%      1.976000e+03  3.300000e+01   1.400000e+01\n",
       "            75%      1.984000e+03  4.500000e+01   1.500000e+01\n",
       "            max      1.999000e+03  9.900000e+01   9.990000e+02\n",
       "White       count    3.433959e+06  3.433959e+06   2.479843e+06\n",
       "            mean     1.972294e+03  3.663609e+01   1.465019e+01\n",
       "            std      1.448562e+01  1.434191e+01   1.565915e+01\n",
       "            min      1.905000e+03  1.500000e+01  -4.500000e+01\n",
       "            25%      1.962000e+03  2.400000e+01   1.000000e+01\n",
       "            50%      1.975000e+03  3.400000e+01   1.200000e+01\n",
       "            75%      1.984000e+03  4.700000e+01   1.500000e+01\n",
       "            max      2.000000e+03  9.900000e+01   9.990000e+02"
      ]
     },
     "execution_count": 23,
     "metadata": {},
     "output_type": "execute_result"
    }
   ],
   "source": [
    "data.groupby('driver_race').apply(pd.DataFrame.describe)"
   ]
  },
  {
   "cell_type": "code",
   "execution_count": 53,
   "metadata": {},
   "outputs": [],
   "source": [
    "d = pd.DataFrame(data.groupby('driver_race').drugs_related_stop.value_counts(normalize=True))"
   ]
  },
  {
   "cell_type": "markdown",
   "metadata": {},
   "source": [
    "## 经典："
   ]
  },
  {
   "cell_type": "code",
   "execution_count": 68,
   "metadata": {},
   "outputs": [
    {
     "data": {
      "text/plain": [
       "<matplotlib.axes._subplots.AxesSubplot at 0x198044a8>"
      ]
     },
     "execution_count": 68,
     "metadata": {},
     "output_type": "execute_result"
    },
    {
     "data": {
      "image/png": "[encoded data removed]",
      "text/plain": [
       "<matplotlib.figure.Figure at 0x19892400>"
      ]
     },
     "metadata": {},
     "output_type": "display_data"
    }
   ],
   "source": [
    "data.groupby('driver_race').drugs_related_stop.value_counts(normalize=True).unstack().iloc[:,1].plot(kind='bar')"
   ]
  },
  {
   "cell_type": "code",
   "execution_count": 81,
   "metadata": {},
   "outputs": [
    {
     "data": {
      "text/plain": [
       "<matplotlib.axes._subplots.AxesSubplot at 0x419ccba8>"
      ]
     },
     "execution_count": 81,
     "metadata": {},
     "output_type": "execute_result"
    },
    {
     "data": {
      "image/png": "[encoded data removed]",
      "text/plain": [
       "<matplotlib.figure.Figure at 0x4219a4e0>"
      ]
     },
     "metadata": {},
     "output_type": "display_data"
    }
   ],
   "source": [
    "data.groupby('driver_race').search_conducted.value_counts(normalize=True).unstack().iloc[:,1].plot(kind='bar')"
   ]
  },
  {
   "cell_type": "code",
   "execution_count": 88,
   "metadata": {},
   "outputs": [
    {
     "data": {
      "text/plain": [
       "<matplotlib.axes._subplots.AxesSubplot at 0x42330ef0>"
      ]
     },
     "execution_count": 88,
     "metadata": {},
     "output_type": "execute_result"
    },
    {
     "data": {
      "image/png": "[encoded data removed]",
      "text/plain": [
       "<matplotlib.figure.Figure at 0x42264320>"
      ]
     },
     "metadata": {},
     "output_type": "display_data"
    }
   ],
   "source": [
    "data.groupby('driver_race').stop_outcome.value_counts(normalize=True).unstack(level=0).plot(kind='bar')"
   ]
  },
  {
   "cell_type": "code",
   "execution_count": 90,
   "metadata": {},
   "outputs": [
    {
     "data": {
      "text/html": [
       "<div>\n",
       "<style scoped>\n",
       "    .dataframe tbody tr th:only-of-type {\n",
       "        vertical-align: middle;\n",
       "    }\n",
       "\n",
       "    .dataframe tbody tr th {\n",
       "        vertical-align: top;\n",
       "    }\n",
       "\n",
       "    .dataframe thead th {\n",
       "        text-align: right;\n",
       "    }\n",
       "</style>\n",
       "<table border=\"1\" class=\"dataframe\">\n",
       "  <thead>\n",
       "    <tr style=\"text-align: right;\">\n",
       "      <th>driver_race</th>\n",
       "      <th>Asian</th>\n",
       "      <th>Black</th>\n",
       "      <th>Hispanic</th>\n",
       "      <th>Other</th>\n",
       "      <th>White</th>\n",
       "    </tr>\n",
       "    <tr>\n",
       "      <th>stop_outcome</th>\n",
       "      <th></th>\n",
       "      <th></th>\n",
       "      <th></th>\n",
       "      <th></th>\n",
       "      <th></th>\n",
       "    </tr>\n",
       "  </thead>\n",
       "  <tbody>\n",
       "    <tr>\n",
       "      <th>Citation</th>\n",
       "      <td>0.614163</td>\n",
       "      <td>0.579733</td>\n",
       "      <td>0.587107</td>\n",
       "      <td>0.593934</td>\n",
       "      <td>0.556272</td>\n",
       "    </tr>\n",
       "    <tr>\n",
       "      <th>Verbal Warning</th>\n",
       "      <td>0.011761</td>\n",
       "      <td>0.013852</td>\n",
       "      <td>0.016941</td>\n",
       "      <td>0.011748</td>\n",
       "      <td>0.012055</td>\n",
       "    </tr>\n",
       "    <tr>\n",
       "      <th>Written Warning</th>\n",
       "      <td>0.374076</td>\n",
       "      <td>0.406414</td>\n",
       "      <td>0.395952</td>\n",
       "      <td>0.394318</td>\n",
       "      <td>0.431673</td>\n",
       "    </tr>\n",
       "  </tbody>\n",
       "</table>\n",
       "</div>"
      ],
      "text/plain": [
       "driver_race         Asian     Black  Hispanic     Other     White\n",
       "stop_outcome                                                     \n",
       "Citation         0.614163  0.579733  0.587107  0.593934  0.556272\n",
       "Verbal Warning   0.011761  0.013852  0.016941  0.011748  0.012055\n",
       "Written Warning  0.374076  0.406414  0.395952  0.394318  0.431673"
      ]
     },
     "execution_count": 90,
     "metadata": {},
     "output_type": "execute_result"
    }
   ],
   "source": [
    "data.groupby('driver_race').stop_outcome.value_counts(normalize=True).unstack(level=0)"
   ]
  },
  {
   "cell_type": "code",
   "execution_count": 95,
   "metadata": {},
   "outputs": [
    {
     "data": {
      "text/html": [
       "<div>\n",
       "<style scoped>\n",
       "    .dataframe tbody tr th:only-of-type {\n",
       "        vertical-align: middle;\n",
       "    }\n",
       "\n",
       "    .dataframe tbody tr th {\n",
       "        vertical-align: top;\n",
       "    }\n",
       "\n",
       "    .dataframe thead th {\n",
       "        text-align: right;\n",
       "    }\n",
       "</style>\n",
       "<table border=\"1\" class=\"dataframe\">\n",
       "  <thead>\n",
       "    <tr style=\"text-align: right;\">\n",
       "      <th>stop_outcome</th>\n",
       "      <th>Citation</th>\n",
       "      <th>Verbal Warning</th>\n",
       "      <th>Written Warning</th>\n",
       "    </tr>\n",
       "  </thead>\n",
       "  <tbody>\n",
       "    <tr>\n",
       "      <th>count</th>\n",
       "      <td>5.000000</td>\n",
       "      <td>5.000000</td>\n",
       "      <td>5.000000</td>\n",
       "    </tr>\n",
       "    <tr>\n",
       "      <th>mean</th>\n",
       "      <td>0.586242</td>\n",
       "      <td>0.013271</td>\n",
       "      <td>0.400487</td>\n",
       "    </tr>\n",
       "    <tr>\n",
       "      <th>std</th>\n",
       "      <td>0.021095</td>\n",
       "      <td>0.002230</td>\n",
       "      <td>0.020999</td>\n",
       "    </tr>\n",
       "    <tr>\n",
       "      <th>min</th>\n",
       "      <td>0.556272</td>\n",
       "      <td>0.011748</td>\n",
       "      <td>0.374076</td>\n",
       "    </tr>\n",
       "    <tr>\n",
       "      <th>25%</th>\n",
       "      <td>0.579733</td>\n",
       "      <td>0.011761</td>\n",
       "      <td>0.394318</td>\n",
       "    </tr>\n",
       "    <tr>\n",
       "      <th>50%</th>\n",
       "      <td>0.587107</td>\n",
       "      <td>0.012055</td>\n",
       "      <td>0.395952</td>\n",
       "    </tr>\n",
       "    <tr>\n",
       "      <th>75%</th>\n",
       "      <td>0.593934</td>\n",
       "      <td>0.013852</td>\n",
       "      <td>0.406414</td>\n",
       "    </tr>\n",
       "    <tr>\n",
       "      <th>max</th>\n",
       "      <td>0.614163</td>\n",
       "      <td>0.016941</td>\n",
       "      <td>0.431673</td>\n",
       "    </tr>\n",
       "  </tbody>\n",
       "</table>\n",
       "</div>"
      ],
      "text/plain": [
       "stop_outcome  Citation  Verbal Warning  Written Warning\n",
       "count         5.000000        5.000000         5.000000\n",
       "mean          0.586242        0.013271         0.400487\n",
       "std           0.021095        0.002230         0.020999\n",
       "min           0.556272        0.011748         0.374076\n",
       "25%           0.579733        0.011761         0.394318\n",
       "50%           0.587107        0.012055         0.395952\n",
       "75%           0.593934        0.013852         0.406414\n",
       "max           0.614163        0.016941         0.431673"
      ]
     },
     "execution_count": 95,
     "metadata": {},
     "output_type": "execute_result"
    }
   ],
   "source": [
    "data.groupby('driver_race').stop_outcome.value_counts(normalize=True).unstack().describe()"
   ]
  },
  {
   "cell_type": "code",
   "execution_count": null,
   "metadata": {},
   "outputs": [],
   "source": []
  }
 ],
 "metadata": {
  "kernelspec": {
   "display_name": "Python 3",
   "language": "python",
   "name": "python3"
  },
  "language_info": {
   "codemirror_mode": {
    "name": "ipython",
    "version": 3
   },
   "file_extension": ".py",
   "mimetype": "text/x-python",
   "name": "python",
   "nbconvert_exporter": "python",
   "pygments_lexer": "ipython3",
   "version": "3.6.3"
  }
 },
 "nbformat": 4,
 "nbformat_minor": 2
}
